{
 "cells": [
  {
   "cell_type": "markdown",
   "metadata": {},
   "source": [
    "1. You write a Transact-SQL query to list the available sizes for products. Each individual size should be listed only once. Which query should you use?\n",
    "    - SELECT DISTINCT Size FROM Production.Product;\n",
    "2. You write a Transact-SQL query to return the SalesOrderID, OrderDate, and Amount fields for the first 10 sales orders in order of SalesOrderID. Which three of the following queries returns the required results?\n",
    "    -  -- Option 2; SELECT TOP 10 SalesOrderID, OrderDate, Amount FROM Sales.SalesOrder ORDER BY SalesOrderID;\n",
    "    - -- Option 4; SELECT SalesOrderID, OrderDate, Amount FROM Sales.SalesOrder ORDER BY SalesOrderID OFFSET 0 ROWS FETCH FIRST 10 ROWS ONLY;\n",
    "    - -- Option 5; SELECT SalesOrderID, OrderDate, Amount FROM Sales.SalesOrder ORDER BY SalesOrderID OFFSET 0 ROW FETCH NEXT 10 ROW ONLY;\n",
    "3. You write a query to return the Name and Price of all products that have a Category value of 2 or 4. You have used the following SELECT query: SELECT Name, Price FROM Production.Product. Which two of the following WHERE clauses can you use to complete the query correctly?\n",
    "    - WHERE Category = 2 OR Category = 4;\n",
    "    - WHERE Category IN (2, 4);"
   ]
  }
 ],
 "metadata": {
  "kernelspec": {
   "display_name": "Python 2",
   "language": "python",
   "name": "python2"
  },
  "language_info": {
   "codemirror_mode": {
    "name": "ipython",
    "version": 2
   },
   "file_extension": ".py",
   "mimetype": "text/x-python",
   "name": "python",
   "nbconvert_exporter": "python",
   "pygments_lexer": "ipython2",
   "version": "2.7.11"
  }
 },
 "nbformat": 4,
 "nbformat_minor": 0
}
